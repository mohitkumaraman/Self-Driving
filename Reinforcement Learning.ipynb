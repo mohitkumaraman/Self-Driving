{
 "cells": [
  {
   "cell_type": "code",
   "execution_count": 1,
   "metadata": {},
   "outputs": [],
   "source": [
    "import gym"
   ]
  },
  {
   "cell_type": "code",
   "execution_count": 2,
   "metadata": {},
   "outputs": [],
   "source": [
    "env=gym.make(\"Taxi-v3\").env"
   ]
  },
  {
   "cell_type": "code",
   "execution_count": 3,
   "metadata": {},
   "outputs": [
    {
     "name": "stdout",
     "output_type": "stream",
     "text": [
      "+---------+\n",
      "|R: | : :\u001b[35mG\u001b[0m|\n",
      "| : | : : |\n",
      "| : : : : |\n",
      "| | : | : |\n",
      "|\u001b[43mY\u001b[0m| : |\u001b[34;1mB\u001b[0m: |\n",
      "+---------+\n",
      "\n"
     ]
    }
   ],
   "source": [
    "env.reset()\n",
    "env.render()"
   ]
  },
  {
   "cell_type": "code",
   "execution_count": 4,
   "metadata": {},
   "outputs": [
    {
     "data": {
      "text/plain": [
       "337"
      ]
     },
     "execution_count": 4,
     "metadata": {},
     "output_type": "execute_result"
    }
   ],
   "source": [
    "state=env.encode(3,1,3,5)\n",
    "state"
   ]
  },
  {
   "cell_type": "code",
   "execution_count": 5,
   "metadata": {},
   "outputs": [],
   "source": [
    "env.s=state"
   ]
  },
  {
   "cell_type": "code",
   "execution_count": 6,
   "metadata": {},
   "outputs": [
    {
     "name": "stdout",
     "output_type": "stream",
     "text": [
      "+---------+\n",
      "|R: | : :\u001b[35mG\u001b[0m|\n",
      "| : | : : |\n",
      "| : : : : |\n",
      "| |\u001b[42m_\u001b[0m: | : |\n",
      "|Y| : |B: |\n",
      "+---------+\n",
      "\n"
     ]
    }
   ],
   "source": [
    "env.render()"
   ]
  },
  {
   "cell_type": "code",
   "execution_count": 7,
   "metadata": {},
   "outputs": [],
   "source": [
    "env.s=328"
   ]
  },
  {
   "cell_type": "code",
   "execution_count": 8,
   "metadata": {},
   "outputs": [
    {
     "name": "stdout",
     "output_type": "stream",
     "text": [
      "+---------+\n",
      "|\u001b[35mR\u001b[0m: | : :G|\n",
      "| : | : : |\n",
      "| : : : : |\n",
      "| |\u001b[43m \u001b[0m: | : |\n",
      "|\u001b[34;1mY\u001b[0m| : |B: |\n",
      "+---------+\n",
      "\n"
     ]
    }
   ],
   "source": [
    "env.render()"
   ]
  },
  {
   "cell_type": "code",
   "execution_count": 9,
   "metadata": {},
   "outputs": [
    {
     "data": {
      "text/plain": [
       "{0: [(1.0, 428, -1, False)],\n",
       " 1: [(1.0, 228, -1, False)],\n",
       " 2: [(1.0, 348, -1, False)],\n",
       " 3: [(1.0, 328, -1, False)],\n",
       " 4: [(1.0, 328, -10, False)],\n",
       " 5: [(1.0, 328, -10, False)]}"
      ]
     },
     "execution_count": 9,
     "metadata": {},
     "output_type": "execute_result"
    }
   ],
   "source": [
    "env.P[328]"
   ]
  },
  {
   "cell_type": "code",
   "execution_count": 10,
   "metadata": {},
   "outputs": [
    {
     "data": {
      "text/plain": [
       "3"
      ]
     },
     "execution_count": 10,
     "metadata": {},
     "output_type": "execute_result"
    }
   ],
   "source": [
    "env.action_space.sample()"
   ]
  },
  {
   "cell_type": "code",
   "execution_count": 11,
   "metadata": {},
   "outputs": [],
   "source": [
    "#env.step(0)"
   ]
  },
  {
   "cell_type": "code",
   "execution_count": 14,
   "metadata": {},
   "outputs": [
    {
     "name": "stdout",
     "output_type": "stream",
     "text": [
      "Timesteps taken: 46\n",
      "Penalties incurred: 17\n"
     ]
    }
   ],
   "source": [
    "env.s=499\n",
    "time,penalty,reward=0,0,0\n",
    "frame=[] #animation\n",
    "done=False\n",
    "while not done:\n",
    "    action=env.action_space.sample()\n",
    "    state,reward,done,info=env.step(action)\n",
    "    if reward==-10:\n",
    "        penalty+=1\n",
    "    frame.append({\"frame\":env.render(mode=\"ansi\"),\"state\":state,\"action\":action,\"reward\":reward})\n",
    "    time+=1\n",
    "print(\"Timesteps taken: {}\".format(time))\n",
    "print(\"Penalties incurred: {}\".format(penalty))"
   ]
  },
  {
   "cell_type": "code",
   "execution_count": 15,
   "metadata": {},
   "outputs": [],
   "source": [
    "from IPython.display import clear_output\n",
    "from time import sleep\n",
    "def printframes(a):\n",
    "    for i,j in enumerate(a):\n",
    "        clear_output(wait=True)\n",
    "        print(j[\"frame\"])\n",
    "        print(f\"time:{i+1}\")\n",
    "        print(f\"state:{j['state']}\")\n",
    "        print(f\"action:{j['action']}\")\n",
    "        print(f\"reward:{j['reward']}\")\n",
    "        sleep(0.1)"
   ]
  },
  {
   "cell_type": "code",
   "execution_count": 16,
   "metadata": {},
   "outputs": [
    {
     "name": "stdout",
     "output_type": "stream",
     "text": [
      "+---------+\n",
      "|R: | : :G|\n",
      "| : | : : |\n",
      "| : : : : |\n",
      "| | : | : |\n",
      "|Y| : |\u001b[35m\u001b[34;1m\u001b[43mB\u001b[0m\u001b[0m\u001b[0m: |\n",
      "+---------+\n",
      "  (Dropoff)\n",
      "\n",
      "time:46\n",
      "state:475\n",
      "action:5\n",
      "reward:20\n"
     ]
    }
   ],
   "source": [
    "printframes(frame)"
   ]
  },
  {
   "cell_type": "code",
   "execution_count": 17,
   "metadata": {},
   "outputs": [],
   "source": [
    "env.s=499"
   ]
  },
  {
   "cell_type": "code",
   "execution_count": 18,
   "metadata": {},
   "outputs": [
    {
     "name": "stdout",
     "output_type": "stream",
     "text": [
      "+---------+\n",
      "|R: | : :G|\n",
      "| : | : : |\n",
      "| : : : : |\n",
      "| | : | : |\n",
      "|Y| : |\u001b[35mB\u001b[0m:\u001b[42m_\u001b[0m|\n",
      "+---------+\n",
      "  (Dropoff)\n"
     ]
    }
   ],
   "source": [
    "env.render()"
   ]
  },
  {
   "cell_type": "code",
   "execution_count": 19,
   "metadata": {},
   "outputs": [],
   "source": [
    "import numpy as np\n",
    "q_table=np.zeros([env.observation_space.n, env.action_space.n])"
   ]
  },
  {
   "cell_type": "code",
   "execution_count": 20,
   "metadata": {},
   "outputs": [
    {
     "data": {
      "text/plain": [
       "array([[0., 0., 0., 0., 0., 0.],\n",
       "       [0., 0., 0., 0., 0., 0.],\n",
       "       [0., 0., 0., 0., 0., 0.],\n",
       "       ...,\n",
       "       [0., 0., 0., 0., 0., 0.],\n",
       "       [0., 0., 0., 0., 0., 0.],\n",
       "       [0., 0., 0., 0., 0., 0.]])"
      ]
     },
     "execution_count": 20,
     "metadata": {},
     "output_type": "execute_result"
    }
   ],
   "source": [
    "q_table"
   ]
  },
  {
   "cell_type": "code",
   "execution_count": 21,
   "metadata": {},
   "outputs": [
    {
     "data": {
      "text/plain": [
       "2"
      ]
     },
     "execution_count": 21,
     "metadata": {},
     "output_type": "execute_result"
    }
   ],
   "source": [
    "q_table.ndim"
   ]
  },
  {
   "cell_type": "code",
   "execution_count": 22,
   "metadata": {},
   "outputs": [
    {
     "data": {
      "text/plain": [
       "(500, 6)"
      ]
     },
     "execution_count": 22,
     "metadata": {},
     "output_type": "execute_result"
    }
   ],
   "source": [
    "q_table.shape"
   ]
  },
  {
   "cell_type": "markdown",
   "metadata": {},
   "source": [
    "Q values are updated according to this equation <br>\n",
    "Q(state,action)←(1−α)Q(state,action)+α(reward+(γ)maxQ(next state,all actions))"
   ]
  },
  {
   "cell_type": "code",
   "execution_count": 24,
   "metadata": {},
   "outputs": [
    {
     "name": "stdout",
     "output_type": "stream",
     "text": [
      "episode:100000\n",
      "Training Finished\n"
     ]
    }
   ],
   "source": [
    "import random \n",
    "from IPython.display import clear_output\n",
    "\n",
    "# hyperparameter\n",
    "alpha=0.1\n",
    "gamma=0.6\n",
    "epsilon=0.1\n",
    "\n",
    "# for animation\n",
    "t_time=[]\n",
    "t_penalty=[]\n",
    "for i in range(1,100001):\n",
    "    state=env.reset()\n",
    "    time,penalty,reward=0,0,0\n",
    "    done=False\n",
    "    while not done:\n",
    "        if random.uniform(0,1) < epsilon:\n",
    "            action=env.action_space.sample()\n",
    "        else:\n",
    "            action=np.argmax(q_table[state])\n",
    "        next_state,reward,done,info=env.step(action)\n",
    "        old_value=q_table[state,action]\n",
    "        next_max=np.max(q_table[next_state])\n",
    "        new_value = (1 - alpha) * old_value + alpha * (reward + gamma * next_max)\n",
    "        q_table[state,action]=new_value\n",
    "        if reward==-10:\n",
    "            penalty+=1\n",
    "        state=next_state\n",
    "        time+=1\n",
    "        if i%100==0:\n",
    "            clear_output(wait=True)\n",
    "            print(f\"episode:{i}\")\n",
    "print(\"Training Finished\")"
   ]
  },
  {
   "cell_type": "code",
   "execution_count": 22,
   "metadata": {},
   "outputs": [
    {
     "data": {
      "text/plain": [
       "0.37606802445859067"
      ]
     },
     "execution_count": 22,
     "metadata": {},
     "output_type": "execute_result"
    }
   ],
   "source": [
    "random.uniform(0,1)"
   ]
  },
  {
   "cell_type": "code",
   "execution_count": 23,
   "metadata": {},
   "outputs": [],
   "source": [
    "import pandas as pd"
   ]
  },
  {
   "cell_type": "code",
   "execution_count": 24,
   "metadata": {},
   "outputs": [],
   "source": [
    "z=pd.DataFrame(data=q_table)"
   ]
  },
  {
   "cell_type": "code",
   "execution_count": 25,
   "metadata": {},
   "outputs": [
    {
     "data": {
      "text/html": [
       "<div>\n",
       "<style scoped>\n",
       "    .dataframe tbody tr th:only-of-type {\n",
       "        vertical-align: middle;\n",
       "    }\n",
       "\n",
       "    .dataframe tbody tr th {\n",
       "        vertical-align: top;\n",
       "    }\n",
       "\n",
       "    .dataframe thead th {\n",
       "        text-align: right;\n",
       "    }\n",
       "</style>\n",
       "<table border=\"1\" class=\"dataframe\">\n",
       "  <thead>\n",
       "    <tr style=\"text-align: right;\">\n",
       "      <th></th>\n",
       "      <th>0</th>\n",
       "      <th>1</th>\n",
       "      <th>2</th>\n",
       "      <th>3</th>\n",
       "      <th>4</th>\n",
       "      <th>5</th>\n",
       "    </tr>\n",
       "  </thead>\n",
       "  <tbody>\n",
       "    <tr>\n",
       "      <th>0</th>\n",
       "      <td>0.000000</td>\n",
       "      <td>0.000000</td>\n",
       "      <td>0.000000</td>\n",
       "      <td>0.000000</td>\n",
       "      <td>0.000000</td>\n",
       "      <td>0.000000</td>\n",
       "    </tr>\n",
       "    <tr>\n",
       "      <th>1</th>\n",
       "      <td>-2.418371</td>\n",
       "      <td>-2.363951</td>\n",
       "      <td>-2.418371</td>\n",
       "      <td>-2.363951</td>\n",
       "      <td>-2.273252</td>\n",
       "      <td>-11.363951</td>\n",
       "    </tr>\n",
       "    <tr>\n",
       "      <th>2</th>\n",
       "      <td>-1.870144</td>\n",
       "      <td>-1.450240</td>\n",
       "      <td>-1.870144</td>\n",
       "      <td>-1.450240</td>\n",
       "      <td>-0.750400</td>\n",
       "      <td>-10.450240</td>\n",
       "    </tr>\n",
       "    <tr>\n",
       "      <th>3</th>\n",
       "      <td>-2.363951</td>\n",
       "      <td>-2.273252</td>\n",
       "      <td>-2.363951</td>\n",
       "      <td>-2.273252</td>\n",
       "      <td>-2.122086</td>\n",
       "      <td>-11.273251</td>\n",
       "    </tr>\n",
       "    <tr>\n",
       "      <th>4</th>\n",
       "      <td>-2.496192</td>\n",
       "      <td>-2.496716</td>\n",
       "      <td>-2.496192</td>\n",
       "      <td>-2.496595</td>\n",
       "      <td>-10.706011</td>\n",
       "      <td>-9.294272</td>\n",
       "    </tr>\n",
       "    <tr>\n",
       "      <th>5</th>\n",
       "      <td>0.000000</td>\n",
       "      <td>0.000000</td>\n",
       "      <td>0.000000</td>\n",
       "      <td>0.000000</td>\n",
       "      <td>0.000000</td>\n",
       "      <td>0.000000</td>\n",
       "    </tr>\n",
       "    <tr>\n",
       "      <th>6</th>\n",
       "      <td>-2.496192</td>\n",
       "      <td>-2.496407</td>\n",
       "      <td>-2.496192</td>\n",
       "      <td>-2.496584</td>\n",
       "      <td>-10.427347</td>\n",
       "      <td>-9.950442</td>\n",
       "    </tr>\n",
       "    <tr>\n",
       "      <th>7</th>\n",
       "      <td>-2.482368</td>\n",
       "      <td>-2.486562</td>\n",
       "      <td>-2.482368</td>\n",
       "      <td>-2.484462</td>\n",
       "      <td>-7.770948</td>\n",
       "      <td>-10.003403</td>\n",
       "    </tr>\n",
       "    <tr>\n",
       "      <th>8</th>\n",
       "      <td>-2.273252</td>\n",
       "      <td>-2.332860</td>\n",
       "      <td>-2.373413</td>\n",
       "      <td>-2.305410</td>\n",
       "      <td>-8.685841</td>\n",
       "      <td>-6.833801</td>\n",
       "    </tr>\n",
       "    <tr>\n",
       "      <th>9</th>\n",
       "      <td>-2.470613</td>\n",
       "      <td>-2.473585</td>\n",
       "      <td>-2.483297</td>\n",
       "      <td>-2.476120</td>\n",
       "      <td>-10.621983</td>\n",
       "      <td>-9.648360</td>\n",
       "    </tr>\n",
       "    <tr>\n",
       "      <th>10</th>\n",
       "      <td>0.000000</td>\n",
       "      <td>0.000000</td>\n",
       "      <td>0.000000</td>\n",
       "      <td>0.000000</td>\n",
       "      <td>0.000000</td>\n",
       "      <td>0.000000</td>\n",
       "    </tr>\n",
       "    <tr>\n",
       "      <th>11</th>\n",
       "      <td>-2.451022</td>\n",
       "      <td>-2.463480</td>\n",
       "      <td>-2.461116</td>\n",
       "      <td>-2.463382</td>\n",
       "      <td>-8.992527</td>\n",
       "      <td>-9.023824</td>\n",
       "    </tr>\n",
       "    <tr>\n",
       "      <th>12</th>\n",
       "      <td>-2.489421</td>\n",
       "      <td>-2.491137</td>\n",
       "      <td>-2.489421</td>\n",
       "      <td>-2.491078</td>\n",
       "      <td>-10.033736</td>\n",
       "      <td>-8.991887</td>\n",
       "    </tr>\n",
       "    <tr>\n",
       "      <th>13</th>\n",
       "      <td>-2.470613</td>\n",
       "      <td>-2.476732</td>\n",
       "      <td>-2.470613</td>\n",
       "      <td>-2.474650</td>\n",
       "      <td>-10.012219</td>\n",
       "      <td>-8.435224</td>\n",
       "    </tr>\n",
       "    <tr>\n",
       "      <th>14</th>\n",
       "      <td>-2.489421</td>\n",
       "      <td>-2.491606</td>\n",
       "      <td>-2.489421</td>\n",
       "      <td>-2.491292</td>\n",
       "      <td>-6.848552</td>\n",
       "      <td>-10.410763</td>\n",
       "    </tr>\n",
       "    <tr>\n",
       "      <th>15</th>\n",
       "      <td>0.000000</td>\n",
       "      <td>0.000000</td>\n",
       "      <td>0.000000</td>\n",
       "      <td>0.000000</td>\n",
       "      <td>0.000000</td>\n",
       "      <td>0.000000</td>\n",
       "    </tr>\n",
       "    <tr>\n",
       "      <th>16</th>\n",
       "      <td>5.600000</td>\n",
       "      <td>11.000000</td>\n",
       "      <td>5.600000</td>\n",
       "      <td>11.000000</td>\n",
       "      <td>2.000000</td>\n",
       "      <td>20.000000</td>\n",
       "    </tr>\n",
       "    <tr>\n",
       "      <th>17</th>\n",
       "      <td>-2.122086</td>\n",
       "      <td>-2.273252</td>\n",
       "      <td>-2.122086</td>\n",
       "      <td>-2.273252</td>\n",
       "      <td>-11.273251</td>\n",
       "      <td>-2.363951</td>\n",
       "    </tr>\n",
       "    <tr>\n",
       "      <th>18</th>\n",
       "      <td>0.416000</td>\n",
       "      <td>-0.750400</td>\n",
       "      <td>-1.450240</td>\n",
       "      <td>-0.750400</td>\n",
       "      <td>-9.750400</td>\n",
       "      <td>-1.450240</td>\n",
       "    </tr>\n",
       "    <tr>\n",
       "      <th>19</th>\n",
       "      <td>-1.870144</td>\n",
       "      <td>-2.122086</td>\n",
       "      <td>-1.870144</td>\n",
       "      <td>-2.122086</td>\n",
       "      <td>-11.122086</td>\n",
       "      <td>-2.273252</td>\n",
       "    </tr>\n",
       "    <tr>\n",
       "      <th>20</th>\n",
       "      <td>0.000000</td>\n",
       "      <td>0.000000</td>\n",
       "      <td>0.000000</td>\n",
       "      <td>0.000000</td>\n",
       "      <td>0.000000</td>\n",
       "      <td>0.000000</td>\n",
       "    </tr>\n",
       "  </tbody>\n",
       "</table>\n",
       "</div>"
      ],
      "text/plain": [
       "           0          1         2          3          4          5\n",
       "0   0.000000   0.000000  0.000000   0.000000   0.000000   0.000000\n",
       "1  -2.418371  -2.363951 -2.418371  -2.363951  -2.273252 -11.363951\n",
       "2  -1.870144  -1.450240 -1.870144  -1.450240  -0.750400 -10.450240\n",
       "3  -2.363951  -2.273252 -2.363951  -2.273252  -2.122086 -11.273251\n",
       "4  -2.496192  -2.496716 -2.496192  -2.496595 -10.706011  -9.294272\n",
       "5   0.000000   0.000000  0.000000   0.000000   0.000000   0.000000\n",
       "6  -2.496192  -2.496407 -2.496192  -2.496584 -10.427347  -9.950442\n",
       "7  -2.482368  -2.486562 -2.482368  -2.484462  -7.770948 -10.003403\n",
       "8  -2.273252  -2.332860 -2.373413  -2.305410  -8.685841  -6.833801\n",
       "9  -2.470613  -2.473585 -2.483297  -2.476120 -10.621983  -9.648360\n",
       "10  0.000000   0.000000  0.000000   0.000000   0.000000   0.000000\n",
       "11 -2.451022  -2.463480 -2.461116  -2.463382  -8.992527  -9.023824\n",
       "12 -2.489421  -2.491137 -2.489421  -2.491078 -10.033736  -8.991887\n",
       "13 -2.470613  -2.476732 -2.470613  -2.474650 -10.012219  -8.435224\n",
       "14 -2.489421  -2.491606 -2.489421  -2.491292  -6.848552 -10.410763\n",
       "15  0.000000   0.000000  0.000000   0.000000   0.000000   0.000000\n",
       "16  5.600000  11.000000  5.600000  11.000000   2.000000  20.000000\n",
       "17 -2.122086  -2.273252 -2.122086  -2.273252 -11.273251  -2.363951\n",
       "18  0.416000  -0.750400 -1.450240  -0.750400  -9.750400  -1.450240\n",
       "19 -1.870144  -2.122086 -1.870144  -2.122086 -11.122086  -2.273252\n",
       "20  0.000000   0.000000  0.000000   0.000000   0.000000   0.000000"
      ]
     },
     "execution_count": 25,
     "metadata": {},
     "output_type": "execute_result"
    }
   ],
   "source": [
    "z.head(21)"
   ]
  },
  {
   "cell_type": "code",
   "execution_count": 26,
   "metadata": {},
   "outputs": [
    {
     "data": {
      "text/plain": [
       "2"
      ]
     },
     "execution_count": 26,
     "metadata": {},
     "output_type": "execute_result"
    }
   ],
   "source": [
    "np.argmax(q_table[4])"
   ]
  },
  {
   "cell_type": "code",
   "execution_count": 23,
   "metadata": {},
   "outputs": [
    {
     "name": "stdout",
     "output_type": "stream",
     "text": [
      "428\n",
      "Results after 10000 episodes:\n",
      "Average timesteps per episode: 0.0011\n",
      "Average penalties per episode: 0.0\n"
     ]
    }
   ],
   "source": [
    "# TESTING\n",
    "t_time,t_penalty=0,0\n",
    "episode=10000\n",
    "for i in range(1):\n",
    "    state=env.reset()\n",
    "    print(state)\n",
    "    time,reward,penalty=0,0,0\n",
    "    done=False\n",
    "    while not done:\n",
    "        action=np.argmax(q_table[state])\n",
    "        state,reward,done,info=env.step(action)\n",
    "        if reward==-10:\n",
    "            penalty+=1\n",
    "        time+=1\n",
    "    t_time+=time\n",
    "    t_penalty+=penalty\n",
    "print(f\"Results after {episode} episodes:\")\n",
    "print(f\"Average timesteps per episode: {t_time / episode}\")\n",
    "print(f\"Average penalties per episode: {t_penalty / episode}\")"
   ]
  },
  {
   "cell_type": "code",
   "execution_count": 30,
   "metadata": {},
   "outputs": [],
   "source": [
    "env.s=328\n",
    "done=False\n",
    "frame=[]\n",
    "time,penalty=0,0\n",
    "while not done:\n",
    "    action=np.argmax(q_table[state])\n",
    "    state,reward,done,info=env.step(action)\n",
    "    frame.append({\"frame\":env.render(mode='ansi'),\"state\":state,\"action\":action,\"reward\":reward})\n",
    "    if reward==-10:\n",
    "        penalty+=1\n",
    "    time+=1\n"
   ]
  },
  {
   "cell_type": "code",
   "execution_count": 32,
   "metadata": {},
   "outputs": [
    {
     "name": "stdout",
     "output_type": "stream",
     "text": [
      "+---------+\n",
      "|\u001b[35m\u001b[34;1m\u001b[43mR\u001b[0m\u001b[0m\u001b[0m: | : :G|\n",
      "| : | : : |\n",
      "| : : : : |\n",
      "| | : | : |\n",
      "|Y| : |B: |\n",
      "+---------+\n",
      "  (Dropoff)\n",
      "\n",
      "time:10\n",
      "state:0\n",
      "action:5\n",
      "reward:20\n"
     ]
    }
   ],
   "source": [
    "printframes(frame)"
   ]
  }
 ],
 "metadata": {
  "kernelspec": {
   "display_name": "Python 3",
   "language": "python",
   "name": "python3"
  },
  "language_info": {
   "codemirror_mode": {
    "name": "ipython",
    "version": 3
   },
   "file_extension": ".py",
   "mimetype": "text/x-python",
   "name": "python",
   "nbconvert_exporter": "python",
   "pygments_lexer": "ipython3",
   "version": "3.8.3"
  }
 },
 "nbformat": 4,
 "nbformat_minor": 4
}
